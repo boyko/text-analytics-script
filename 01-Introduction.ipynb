{
 "cells": [
  {
   "cell_type": "markdown",
   "metadata": {
    "collapsed": true,
    "pycharm": {
     "name": "#%% md\n"
    }
   },
   "source": [
    "## Introduction\n",
    "\n",
    "Why text analytics\n",
    "\n",
    "- Wikipedia\n",
    "- Twitter\n",
    "- News\n",
    "\n",
    "What is different about text analytics\n",
    "\n",
    "- Classical data analysis: structured data, e.g. age, location, income\n",
    "- Unstructured data\n",
    "\n",
    "Purpose of text analytics\n",
    "\n",
    "- Extract information\n",
    "- Classification\n",
    "- Document retrieval\n",
    "- Sentiment analysis\n",
    "- Topic modelling\n",
    "\n",
    "## Example"
   ]
  },
  {
   "cell_type": "code",
   "execution_count": null,
   "outputs": [],
   "source": [],
   "metadata": {
    "collapsed": false,
    "pycharm": {
     "name": "#%%\n"
    }
   }
  }
 ],
 "metadata": {
  "kernelspec": {
   "display_name": "Python 3",
   "language": "python",
   "name": "python3"
  },
  "language_info": {
   "codemirror_mode": {
    "name": "ipython",
    "version": 2
   },
   "file_extension": ".py",
   "mimetype": "text/x-python",
   "name": "python",
   "nbconvert_exporter": "python",
   "pygments_lexer": "ipython2",
   "version": "2.7.6"
  }
 },
 "nbformat": 4,
 "nbformat_minor": 0
}